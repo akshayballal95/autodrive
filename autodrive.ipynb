{
  "cells": [
    {
      "cell_type": "code",
      "execution_count": 16,
      "metadata": {
        "id": "4Xd5WIVxHgrJ"
      },
      "outputs": [],
      "source": [
        "from torch.utils.data import Dataset, DataLoader\n",
        "import cv2\n",
        "from PIL import Image\n",
        "import pandas as pd\n",
        "import torch\n",
        "import os\n",
        "from torchvision.transforms import CenterCrop, Resize, Compose, ToTensor, Normalize\n",
        "import matplotlib.pyplot as plt\n",
        "import pandas as pd\n",
        "from sklearn.model_selection import train_test_split\n",
        "import torchvision.models\n",
        "import torch.optim as optim\n",
        "from tqdm import tqdm\n",
        "import gc\n",
        "import numpy as np"
      ]
    },
    {
      "cell_type": "code",
      "execution_count": 17,
      "metadata": {
        "id": "nOOOTvkWJ-N9"
      },
      "outputs": [],
      "source": [
        "transformer = Compose([\n",
        "    Resize(480),\n",
        "    CenterCrop(480),\n",
        "    ToTensor(),\n",
        "    Normalize(mean =[0.485, 0.456, 0.406], std =[0.229, 0.224, 0.225] )\n",
        "])"
      ]
    },
    {
      "cell_type": "code",
      "execution_count": 18,
      "metadata": {
        "id": "31lcBW3BHu6C"
      },
      "outputs": [],
      "source": [
        "class DinoDataset(Dataset):\n",
        "    def __init__(self, dataframe, root_dir, transform = None):\n",
        "        \"\"\"\n",
        "        Args:\n",
        "            csv_file (string): Path to the csv file with annotations.\n",
        "            root_dir (string): Directory with all the images.\n",
        "            transform (callable, optional): Optional transform to be applied\n",
        "                on a sample.\n",
        "        \"\"\"\n",
        "\n",
        "        self.key_frame = dataframe\n",
        "        self.root_dir = root_dir\n",
        "        self.transform = transform\n",
        "\n",
        "    def __len__(self):\n",
        "        return len(self.key_frame)\n",
        "    \n",
        "    def __getitem__(self, idx):\n",
        "        if torch.is_tensor(idx):\n",
        "            idx = idx.to_list()\n",
        "    \n",
        "        img_name = os.path.join(self.root_dir, self.key_frame.iloc[idx,0])\n",
        "        image = cv2.imread(img_name)\n",
        "        image = cv2.resize(image, (480,480))\n",
        "\n",
        "        image = Image.fromarray(image)\n",
        "        label = torch.tensor(self.key_frame.iloc[idx, 1])\n",
        "\n",
        "        if self.transform: \n",
        "            image = self.transform(image)\n",
        "\n",
        "        return image, label"
      ]
    },
    {
      "cell_type": "code",
      "execution_count": 19,
      "metadata": {
        "colab": {
          "base_uri": "https://localhost:8080/",
          "height": 151
        },
        "id": "KUVmvkVD-9Vr",
        "outputId": "024c868d-8032-4a40-a87e-c3e48f261da8"
      },
      "outputs": [
        {
          "data": {
            "text/plain": [
              "<matplotlib.image.AxesImage at 0x1d137033c88>"
            ]
          },
          "execution_count": 19,
          "metadata": {},
          "output_type": "execute_result"
        },
        {
          "data": {
            "image/png": "[encoded data removed]",
            "text/plain": [
              "<Figure size 640x480 with 1 Axes>"
            ]
          },
          "metadata": {},
          "output_type": "display_data"
        }
      ],
      "source": [
        "image = cv2.imread(\"captures/1146 n.png\")\n",
        "plt.imshow(image)"
      ]
    },
    {
      "cell_type": "code",
      "execution_count": 20,
      "metadata": {
        "colab": {
          "base_uri": "https://localhost:8080/",
          "height": 363
        },
        "id": "GNavpwEzBTSd",
        "outputId": "c0e20eb6-9865-4893-b235-0e601ab551e0"
      },
      "outputs": [
        {
          "data": {
            "text/html": [
              "<div>\n",
              "<style scoped>\n",
              "    .dataframe tbody tr th:only-of-type {\n",
              "        vertical-align: middle;\n",
              "    }\n",
              "\n",
              "    .dataframe tbody tr th {\n",
              "        vertical-align: top;\n",
              "    }\n",
              "\n",
              "    .dataframe thead th {\n",
              "        text-align: right;\n",
              "    }\n",
              "</style>\n",
              "<table border=\"1\" class=\"dataframe\">\n",
              "  <thead>\n",
              "    <tr style=\"text-align: right;\">\n",
              "      <th></th>\n",
              "      <th>file_name</th>\n",
              "      <th>class</th>\n",
              "    </tr>\n",
              "  </thead>\n",
              "  <tbody>\n",
              "    <tr>\n",
              "      <th>856</th>\n",
              "      <td>1778 space.png</td>\n",
              "      <td>1</td>\n",
              "    </tr>\n",
              "    <tr>\n",
              "      <th>1446</th>\n",
              "      <td>2314 n.png</td>\n",
              "      <td>0</td>\n",
              "    </tr>\n",
              "    <tr>\n",
              "      <th>1835</th>\n",
              "      <td>2668 n.png</td>\n",
              "      <td>0</td>\n",
              "    </tr>\n",
              "    <tr>\n",
              "      <th>1746</th>\n",
              "      <td>2587 n.png</td>\n",
              "      <td>0</td>\n",
              "    </tr>\n",
              "    <tr>\n",
              "      <th>1482</th>\n",
              "      <td>2347 n.png</td>\n",
              "      <td>0</td>\n",
              "    </tr>\n",
              "    <tr>\n",
              "      <th>29</th>\n",
              "      <td>1026 n.png</td>\n",
              "      <td>0</td>\n",
              "    </tr>\n",
              "    <tr>\n",
              "      <th>152</th>\n",
              "      <td>1138 n.png</td>\n",
              "      <td>0</td>\n",
              "    </tr>\n",
              "    <tr>\n",
              "      <th>1084</th>\n",
              "      <td>1985 n.png</td>\n",
              "      <td>0</td>\n",
              "    </tr>\n",
              "    <tr>\n",
              "      <th>425</th>\n",
              "      <td>1386 n.png</td>\n",
              "      <td>0</td>\n",
              "    </tr>\n",
              "    <tr>\n",
              "      <th>2832</th>\n",
              "      <td>3574 n.png</td>\n",
              "      <td>0</td>\n",
              "    </tr>\n",
              "  </tbody>\n",
              "</table>\n",
              "</div>"
            ],
            "text/plain": [
              "           file_name  class\n",
              "856   1778 space.png      1\n",
              "1446      2314 n.png      0\n",
              "1835      2668 n.png      0\n",
              "1746      2587 n.png      0\n",
              "1482      2347 n.png      0\n",
              "29        1026 n.png      0\n",
              "152       1138 n.png      0\n",
              "1084      1985 n.png      0\n",
              "425       1386 n.png      0\n",
              "2832      3574 n.png      0"
            ]
          },
          "execution_count": 20,
          "metadata": {},
          "output_type": "execute_result"
        }
      ],
      "source": [
        "key_frame = pd.read_csv(\"labels.csv\")\n",
        "train,test = train_test_split(key_frame, test_size = 0.2)\n",
        "train = pd.DataFrame(train)\n",
        "test = pd.DataFrame(test)\n",
        "train.sample(10)\n"
      ]
    },
    {
      "cell_type": "code",
      "execution_count": 21,
      "metadata": {
        "colab": {
          "base_uri": "https://localhost:8080/"
        },
        "id": "cjxhu6vqBfua",
        "outputId": "06060b14-66d2-40c6-bb70-0626df14ee58"
      },
      "outputs": [],
      "source": [
        "batch_size = 4\n",
        "trainset = DinoDataset(root_dir = \"captures\", dataframe = train, transform = transformer)\n",
        "trainloader = torch.utils.data.DataLoader(trainset, batch_size = batch_size) \n",
        "\n",
        "testset = DinoDataset(root_dir = \"captures\", dataframe = test, transform = transformer)\n",
        "testloader = torch.utils.data.DataLoader(trainset, batch_size = batch_size)"
      ]
    },
    {
      "cell_type": "code",
      "execution_count": 22,
      "metadata": {
        "id": "EQTXKhQ5QJiE"
      },
      "outputs": [],
      "source": [
        "def imshow(img):\n",
        "    # img = img / 2 + 0.5     # unnormalize\n",
        "    npimg = img.numpy()\n",
        "    plt.imshow(np.transpose(npimg, (1, 2, 0)))\n",
        "    plt.show()"
      ]
    },
    {
      "cell_type": "code",
      "execution_count": 23,
      "metadata": {
        "colab": {
          "base_uri": "https://localhost:8080/",
          "height": 171
        },
        "id": "K64HkGW78gkt",
        "outputId": "22a6e18d-36ab-4ee0-872e-6cdcb3207a7b"
      },
      "outputs": [
        {
          "name": "stderr",
          "output_type": "stream",
          "text": [
            "Clipping input data to the valid range for imshow with RGB data ([0..1] for floats or [0..255] for integers).\n"
          ]
        },
        {
          "data": {
            "image/png": "[encoded data removed]",
            "text/plain": [
              "<Figure size 640x480 with 1 Axes>"
            ]
          },
          "metadata": {},
          "output_type": "display_data"
        },
        {
          "name": "stdout",
          "output_type": "stream",
          "text": [
            "0 1 0 0\n"
          ]
        }
      ],
      "source": [
        "dataiter = iter(trainloader)\n",
        "images, labels = next(dataiter)\n",
        "\n",
        "imshow(torchvision.utils.make_grid(images))\n",
        "print(' '.join(f'{labels[j]}' for j in range(batch_size)))"
      ]
    },
    {
      "cell_type": "code",
      "execution_count": 24,
      "metadata": {
        "id": "V95j_eJjCt-s"
      },
      "outputs": [],
      "source": [
        "model = torchvision.models.efficientnet_v2_s()\n",
        "model.classifier = torch.nn.Linear(in_features = 1280, out_features = 2)\n",
        "model = model.to(\"cuda\")\n",
        "\n",
        "\n",
        "criterion = torch.nn.CrossEntropyLoss()\n",
        "optimizer = optim.SGD(model.parameters(), lr=0.002, momentum=0.9)"
      ]
    },
    {
      "cell_type": "markdown",
      "metadata": {
        "id": "ghEXjslPKDN3"
      },
      "source": [
        "# Training"
      ]
    },
    {
      "cell_type": "code",
      "execution_count": 26,
      "metadata": {
        "id": "Z54wcnI17Hl5"
      },
      "outputs": [
        {
          "name": "stderr",
          "output_type": "stream",
          "text": [
            "100%|██████████| 709/709 [01:37<00:00,  7.29it/s]\n",
            "100%|██████████| 709/709 [01:36<00:00,  7.36it/s]\n",
            "100%|██████████| 709/709 [01:37<00:00,  7.24it/s]\n",
            "100%|██████████| 709/709 [01:36<00:00,  7.38it/s]\n",
            "100%|██████████| 709/709 [01:37<00:00,  7.31it/s]\n",
            "100%|██████████| 709/709 [01:37<00:00,  7.31it/s]\n",
            "100%|██████████| 709/709 [01:36<00:00,  7.31it/s]\n",
            "100%|██████████| 709/709 [01:37<00:00,  7.26it/s]\n",
            "100%|██████████| 709/709 [01:37<00:00,  7.28it/s]\n",
            "100%|██████████| 709/709 [01:38<00:00,  7.21it/s]\n",
            "100%|██████████| 709/709 [01:38<00:00,  7.22it/s]\n",
            "100%|██████████| 709/709 [01:37<00:00,  7.29it/s]\n",
            "100%|██████████| 709/709 [01:37<00:00,  7.25it/s]\n",
            "100%|██████████| 709/709 [01:38<00:00,  7.20it/s]\n",
            "100%|██████████| 709/709 [01:38<00:00,  7.17it/s]"
          ]
        },
        {
          "name": "stdout",
          "output_type": "stream",
          "text": [
            "Finished Training\n"
          ]
        },
        {
          "name": "stderr",
          "output_type": "stream",
          "text": [
            "\n"
          ]
        }
      ],
      "source": [
        "for epoch in range(15):  # loop over the dataset multiple times\n",
        "\n",
        "    running_loss = 0.0\n",
        "    for data in tqdm(trainloader, position = 0, leave = True ):\n",
        "        # get the inputs; data is a list of [inputs, labels]\n",
        "        inputs, labels = data\n",
        "        inputs = inputs.to(\"cuda\")\n",
        "        labels = labels.to(\"cuda\")\n",
        "        # zero the parameter gradients\n",
        "        optimizer.zero_grad()\n",
        "\n",
        "        # forward + backward + optimize\n",
        "        outputs = model(inputs)\n",
        "        loss = criterion(outputs, labels)\n",
        "        loss.backward()\n",
        "        optimizer.step()\n",
        "\n",
        "        # print statistics\n",
        "        running_loss += loss.item()\n",
        "        # if i % 2000 == 1999:    # print every 2000 mini-batches\n",
        "        #     print(f'[{epoch + 1}, {i + 1:5d}] loss: {running_loss / 2000:.3f}')\n",
        "        #     running_loss = 0.0\n",
        "\n",
        "print('Finished Training')"
      ]
    },
    {
      "cell_type": "code",
      "execution_count": 27,
      "metadata": {
        "id": "8UsUGNltG3dz"
      },
      "outputs": [],
      "source": [
        "gc.collect()\n",
        "torch.cuda.empty_cache()"
      ]
    },
    {
      "cell_type": "markdown",
      "metadata": {
        "id": "VnFkI70YKH7o"
      },
      "source": [
        "# Save Model Weights"
      ]
    },
    {
      "cell_type": "code",
      "execution_count": 28,
      "metadata": {
        "id": "spPyjNEb-TRK"
      },
      "outputs": [],
      "source": [
        "PATH = 'efficientnet_s.pth'\n",
        "torch.save(model.state_dict(), PATH)"
      ]
    },
    {
      "cell_type": "markdown",
      "metadata": {
        "id": "-x2tg0oXKMbw"
      },
      "source": [
        "# Test and Inference"
      ]
    },
    {
      "cell_type": "code",
      "execution_count": 29,
      "metadata": {
        "id": "6IXHmw-2C33Y"
      },
      "outputs": [],
      "source": [
        "saved_model = torchvision.models.efficientnet_v2_s()\n",
        "saved_model.classifier = torch.nn.Linear(in_features = 1280, out_features = 2)\n",
        "saved_model.load_state_dict(torch.load(PATH))\n",
        "saved_model = saved_model.to(\"cuda\")\n",
        "saved_mode = saved_model.eval()\n",
        "\n"
      ]
    },
    {
      "cell_type": "code",
      "execution_count": 30,
      "metadata": {
        "id": "6X74HZ24Pn-0"
      },
      "outputs": [
        {
          "name": "stdout",
          "output_type": "stream",
          "text": [
            "tensor([0, 0, 0, 0], device='cuda:0')\n"
          ]
        }
      ],
      "source": [
        "dataiter = iter(testloader)\n",
        "images, labels = next(dataiter)\n",
        "images = images.to(\"cuda\")\n",
        "labels = labels.to(\"cuda\")\n",
        "\n",
        "outputs = saved_model(images)\n",
        "_, predicted = torch.max(outputs, 1)\n",
        "\n",
        "print(predicted)"
      ]
    },
    {
      "cell_type": "code",
      "execution_count": 31,
      "metadata": {
        "id": "F2inx1GuEFSr"
      },
      "outputs": [
        {
          "name": "stderr",
          "output_type": "stream",
          "text": [
            "100%|██████████| 709/709 [00:28<00:00, 24.80it/s]"
          ]
        },
        {
          "name": "stdout",
          "output_type": "stream",
          "text": [
            "\n",
            " Accuracy of the network on the test images: 95 %\n"
          ]
        },
        {
          "name": "stderr",
          "output_type": "stream",
          "text": [
            "\n"
          ]
        },
        {
          "ename": "",
          "evalue": "",
          "output_type": "error",
          "traceback": [
            "\u001b[1;31mThe Kernel crashed while executing code in the the current cell or a previous cell. Please review the code in the cell(s) to identify a possible cause of the failure. Click <a href='https://aka.ms/vscodeJupyterKernelCrash'>here</a> for more info. View Jupyter <a href='command:jupyter.viewOutput'>log</a> for further details."
          ]
        }
      ],
      "source": [
        "correct = 0\n",
        "total = 0\n",
        "with torch.no_grad():\n",
        "  for data in tqdm(testloader, position = 0, leave = True):\n",
        "    images,labels = data\n",
        "    images = images.to(\"cuda\")\n",
        "    labels = labels.to(\"cuda\")\n",
        "\n",
        "    outputs = saved_model(images)\n",
        "    _, predicted = torch.max(outputs.data, 1)\n",
        "    total += labels.size(0)\n",
        "    correct += (predicted == labels).sum().item()\n",
        "  \n",
        "print(f'\\n Accuracy of the network on the test images: {100 * correct // total} %')"
      ]
    },
    {
      "cell_type": "markdown",
      "metadata": {
        "id": "gamnGJIzBRfw"
      },
      "source": []
    }
  ],
  "metadata": {
    "accelerator": "GPU",
    "colab": {
      "provenance": []
    },
    "gpuClass": "standard",
    "kernelspec": {
      "display_name": "autodrive-env",
      "language": "python",
      "name": "python3"
    },
    "language_info": {
      "codemirror_mode": {
        "name": "ipython",
        "version": 3
      },
      "file_extension": ".py",
      "mimetype": "text/x-python",
      "name": "python",
      "nbconvert_exporter": "python",
      "pygments_lexer": "ipython3",
      "version": "3.7.16"
    },
    "vscode": {
      "interpreter": {
        "hash": "89c400947af060eca0a0948d22f6352c8f4e37a91fc8d453c94a68b2bdf5ef16"
      }
    }
  },
  "nbformat": 4,
  "nbformat_minor": 0
}
